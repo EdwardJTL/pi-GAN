{
 "cells": [
  {
   "cell_type": "code",
   "execution_count": 58,
   "metadata": {
    "collapsed": true
   },
   "outputs": [],
   "source": [
    "import numpy as np\n",
    "\n",
    "import os\n",
    "import fnmatch\n",
    "from natsort import natsorted, ns\n",
    "\n",
    "from matplotlib import image\n",
    "from matplotlib import pyplot"
   ]
  },
  {
   "cell_type": "code",
   "execution_count": 16,
   "outputs": [],
   "source": [
    "datasets_path = os.path.join(os.getcwd(), \"../Local/datasets/data/\")\n",
    "shapenet_path = os.path.join(datasets_path, \"ShapeNet/\")\n",
    "NMR_path = os.path.join(datasets_path, \"NMR_Dataset/\")"
   ],
   "metadata": {
    "collapsed": false,
    "pycharm": {
     "name": "#%%\n"
    }
   }
  },
  {
   "cell_type": "code",
   "execution_count": 17,
   "outputs": [],
   "source": [
    "class_id = \"02958343\""
   ],
   "metadata": {
    "collapsed": false,
    "pycharm": {
     "name": "#%%\n"
    }
   }
  },
  {
   "cell_type": "code",
   "execution_count": 18,
   "outputs": [],
   "source": [
    "working_path = os.path.join(NMR_path, class_id)"
   ],
   "metadata": {
    "collapsed": false,
    "pycharm": {
     "name": "#%%\n"
    }
   }
  },
  {
   "cell_type": "code",
   "execution_count": 24,
   "outputs": [],
   "source": [
    "def list_instance_ids(class_path):\n",
    "    for f in os.listdir(class_path):\n",
    "        if os.path.isdir(os.path.join(class_path, f)):\n",
    "            yield f\n",
    "def list_image_in_dir(path, ext=\"png\"):\n",
    "    for f in os.listdir(path):\n",
    "        if os.path.isfile(os.path.join(path, f)) and not f.startswith('.') and fnmatch.fnmatch(f, '*.{}'.format(ext)):\n",
    "            yield f"
   ],
   "metadata": {
    "collapsed": false,
    "pycharm": {
     "name": "#%%\n"
    }
   }
  },
  {
   "cell_type": "code",
   "execution_count": 20,
   "outputs": [
    {
     "name": "stdout",
     "output_type": "stream",
     "text": [
      "found 7496 instances\n"
     ]
    }
   ],
   "source": [
    "instance_ids = [f for f in list_instance_ids(working_path)]\n",
    "print(\"found {} instances\".format(len(instance_ids)))"
   ],
   "metadata": {
    "collapsed": false,
    "pycharm": {
     "name": "#%%\n"
    }
   }
  },
  {
   "cell_type": "code",
   "execution_count": 25,
   "outputs": [
    {
     "name": "stdout",
     "output_type": "stream",
     "text": [
      "['cameras.npz', 'pointcloud.npz', 'image', 'mask', 'visual_hull_depth']\n",
      "['0000.png', '0001.png', '0002.png', '0003.png', '0004.png', '0005.png', '0006.png', '0007.png', '0008.png', '0009.png', '0010.png', '0011.png', '0012.png', '0013.png', '0014.png', '0015.png', '0016.png', '0017.png', '0018.png', '0019.png', '0020.png', '0021.png', '0022.png', '0023.png']\n",
      "found 24 images\n"
     ]
    }
   ],
   "source": [
    "print(os.listdir(os.path.join(working_path, instance_ids[0])))\n",
    "print(os.listdir(os.path.join(working_path, instance_ids[0], \"image\")))\n",
    "images = [f for f in list_image_in_dir(os.path.join(working_path, instance_ids[0], \"image\"))]\n",
    "print(\"found {} images\".format(len(images)))"
   ],
   "metadata": {
    "collapsed": false,
    "pycharm": {
     "name": "#%%\n"
    }
   }
  },
  {
   "cell_type": "code",
   "execution_count": 30,
   "outputs": [],
   "source": [
    "def show_images(class_path, instance_id):\n",
    "    instance_path = os.path.join(class_path, instance_id, \"image\")\n",
    "    image_names = [f for f in list_image_in_dir(instance_path)]\n",
    "    image_paths = [os.path.join(os.path.join(instance_path, f)) for f in image_names]\n",
    "    n_rows = int(np.sqrt(len(image_names)) + 1)\n",
    "\n",
    "    for i in range(0, len(image_names)):\n",
    "        img = image.imread(image_paths[i])\n",
    "        pyplot.subplot(n_rows, n_rows, 1 + i)\n",
    "        pyplot.axis(\"off\")\n",
    "        pyplot.imshow(img)\n",
    "\n",
    "    pyplot.show()"
   ],
   "metadata": {
    "collapsed": false,
    "pycharm": {
     "name": "#%%\n"
    }
   }
  },
  {
   "cell_type": "code",
   "execution_count": 36,
   "outputs": [
    {
     "data": {
      "text/plain": "<Figure size 432x288 with 24 Axes>",
      "image/png": "[encoded data removed]"
     },
     "metadata": {
      "needs_background": "light"
     },
     "output_type": "display_data"
    }
   ],
   "source": [
    "show_images(working_path, instance_ids[23])"
   ],
   "metadata": {
    "collapsed": false,
    "pycharm": {
     "name": "#%%\n"
    }
   }
  },
  {
   "cell_type": "code",
   "execution_count": 51,
   "outputs": [],
   "source": [
    "def camera_path(class_path, instance_id):\n",
    "    return os.path.join(class_path, instance_id, 'cameras.npz')"
   ],
   "metadata": {
    "collapsed": false,
    "pycharm": {
     "name": "#%%\n"
    }
   }
  },
  {
   "cell_type": "code",
   "execution_count": 59,
   "outputs": [
    {
     "name": "stdout",
     "output_type": "stream",
     "text": [
      "['camera_mat_0', 'camera_mat_1', 'camera_mat_2', 'camera_mat_3', 'camera_mat_4', 'camera_mat_5', 'camera_mat_6', 'camera_mat_7', 'camera_mat_8', 'camera_mat_9', 'camera_mat_10', 'camera_mat_11', 'camera_mat_12', 'camera_mat_13', 'camera_mat_14', 'camera_mat_15', 'camera_mat_16', 'camera_mat_17', 'camera_mat_18', 'camera_mat_19', 'camera_mat_20', 'camera_mat_21', 'camera_mat_22', 'camera_mat_23', 'camera_mat_inv_0', 'camera_mat_inv_1', 'camera_mat_inv_2', 'camera_mat_inv_3', 'camera_mat_inv_4', 'camera_mat_inv_5', 'camera_mat_inv_6', 'camera_mat_inv_7', 'camera_mat_inv_8', 'camera_mat_inv_9', 'camera_mat_inv_10', 'camera_mat_inv_11', 'camera_mat_inv_12', 'camera_mat_inv_13', 'camera_mat_inv_14', 'camera_mat_inv_15', 'camera_mat_inv_16', 'camera_mat_inv_17', 'camera_mat_inv_18', 'camera_mat_inv_19', 'camera_mat_inv_20', 'camera_mat_inv_21', 'camera_mat_inv_22', 'camera_mat_inv_23', 'world_mat_0', 'world_mat_1', 'world_mat_2', 'world_mat_3', 'world_mat_4', 'world_mat_5', 'world_mat_6', 'world_mat_7', 'world_mat_8', 'world_mat_9', 'world_mat_10', 'world_mat_11', 'world_mat_12', 'world_mat_13', 'world_mat_14', 'world_mat_15', 'world_mat_16', 'world_mat_17', 'world_mat_18', 'world_mat_19', 'world_mat_20', 'world_mat_21', 'world_mat_22', 'world_mat_23', 'world_mat_inv_0', 'world_mat_inv_1', 'world_mat_inv_2', 'world_mat_inv_3', 'world_mat_inv_4', 'world_mat_inv_5', 'world_mat_inv_6', 'world_mat_inv_7', 'world_mat_inv_8', 'world_mat_inv_9', 'world_mat_inv_10', 'world_mat_inv_11', 'world_mat_inv_12', 'world_mat_inv_13', 'world_mat_inv_14', 'world_mat_inv_15', 'world_mat_inv_16', 'world_mat_inv_17', 'world_mat_inv_18', 'world_mat_inv_19', 'world_mat_inv_20', 'world_mat_inv_21', 'world_mat_inv_22', 'world_mat_inv_23']\n"
     ]
    }
   ],
   "source": [
    "with np.load(file=camera_path(working_path, instance_ids[23]), mmap_mode=None, allow_pickle=False, fix_imports=True) as f:\n",
    "    print(natsorted(list(f.keys()), alg=ns.IGNORECASE))"
   ],
   "metadata": {
    "collapsed": false,
    "pycharm": {
     "name": "#%%\n"
    }
   }
  },
  {
   "cell_type": "code",
   "execution_count": 69,
   "outputs": [],
   "source": [
    "def load_camera_matrices(class_path, instance_id, id):\n",
    "    file_path = camera_path(class_path, instance_id)\n",
    "    with np.load(file_path) as camera_dict:\n",
    "        Rt = camera_dict['world_mat_%d' % id].astype(np.float32)\n",
    "        K = camera_dict['camera_mat_%d' % id].astype(np.float32)\n",
    "    return Rt, K"
   ],
   "metadata": {
    "collapsed": false,
    "pycharm": {
     "name": "#%%\n"
    }
   }
  },
  {
   "cell_type": "code",
   "execution_count": 70,
   "outputs": [
    {
     "data": {
      "text/plain": "(array([[ 0.        ,  0.        , -1.        ,  0.        ],\n        [ 0.5       , -0.8660254 ,  0.        ,  0.        ],\n        [-0.8660254 , -0.49999997,  0.        ,  2.7319999 ]],\n       dtype=float32),\n array([[3.732051, 0.      , 0.      , 0.      ],\n        [0.      , 3.732051, 0.      , 0.      ],\n        [0.      , 0.      , 1.      , 0.      ],\n        [0.      , 0.      , 0.      , 1.      ]], dtype=float32))"
     },
     "execution_count": 70,
     "metadata": {},
     "output_type": "execute_result"
    }
   ],
   "source": [
    "load_camera_matrices(working_path, instance_ids[23], 0)"
   ],
   "metadata": {
    "collapsed": false,
    "pycharm": {
     "name": "#%%\n"
    }
   }
  },
  {
   "cell_type": "code",
   "execution_count": 74,
   "outputs": [],
   "source": [
    "def is_rotation_matrix(R):\n",
    "    R_t = np.transpose(R)\n",
    "    R_t_R = np.dot(R_t, R)\n",
    "    I = np.identity(3, dtype = R.dtype)\n",
    "    n = np.linalg.norm(I - R_t_R)\n",
    "    return n < 1e-6"
   ],
   "metadata": {
    "collapsed": false,
    "pycharm": {
     "name": "#%%\n"
    }
   }
  },
  {
   "cell_type": "code",
   "execution_count": 76,
   "outputs": [
    {
     "data": {
      "text/plain": "True"
     },
     "execution_count": 76,
     "metadata": {},
     "output_type": "execute_result"
    }
   ],
   "source": [
    "is_rotation_matrix(load_camera_matrices(working_path, instance_ids[23], 0)[0][0:3, 0:3])"
   ],
   "metadata": {
    "collapsed": false,
    "pycharm": {
     "name": "#%%\n"
    }
   }
  },
  {
   "cell_type": "code",
   "execution_count": null,
   "outputs": [],
   "source": [],
   "metadata": {
    "collapsed": false,
    "pycharm": {
     "name": "#%%\n"
    }
   }
  }
 ],
 "metadata": {
  "kernelspec": {
   "display_name": "Python 3",
   "language": "python",
   "name": "python3"
  },
  "language_info": {
   "codemirror_mode": {
    "name": "ipython",
    "version": 2
   },
   "file_extension": ".py",
   "mimetype": "text/x-python",
   "name": "python",
   "nbconvert_exporter": "python",
   "pygments_lexer": "ipython2",
   "version": "2.7.6"
  }
 },
 "nbformat": 4,
 "nbformat_minor": 0
}