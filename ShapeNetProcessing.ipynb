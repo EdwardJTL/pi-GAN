{
 "cells": [
  {
   "cell_type": "code",
   "execution_count": 1,
   "metadata": {
    "collapsed": true
   },
   "outputs": [],
   "source": [
    "import os\n",
    "import fnmatch\n",
    "from IPython import display\n",
    "from natsort import natsorted, ns\n",
    "import pickle\n",
    "import shutil\n",
    "\n",
    "import matplotlib.pyplot as plt\n",
    "from matplotlib import image\n",
    "import numpy as np\n",
    "import PIL"
   ]
  },
  {
   "cell_type": "code",
   "execution_count": 2,
   "metadata": {
    "collapsed": false,
    "pycharm": {
     "name": "#%%\n"
    }
   },
   "outputs": [],
   "source": [
    "datasets_path = os.path.join(os.getcwd(), \"../Local/datasets/data/\")\n",
    "shapenet_path = os.path.join(datasets_path, \"ShapeNet/\")\n",
    "NMR_path = os.path.join(datasets_path, \"NMR_Dataset/\")"
   ]
  },
  {
   "cell_type": "code",
   "execution_count": 3,
   "metadata": {
    "collapsed": false,
    "pycharm": {
     "name": "#%%\n"
    }
   },
   "outputs": [],
   "source": [
    "class_id = \"02958343\""
   ]
  },
  {
   "cell_type": "code",
   "execution_count": 4,
   "metadata": {
    "collapsed": false,
    "pycharm": {
     "name": "#%%\n"
    }
   },
   "outputs": [],
   "source": [
    "working_path = os.path.join(NMR_path, class_id)"
   ]
  },
  {
   "cell_type": "code",
   "execution_count": 2,
   "metadata": {
    "collapsed": false,
    "pycharm": {
     "name": "#%%\n"
    }
   },
   "outputs": [],
   "source": [
    "def list_instance_ids(class_path):\n",
    "    for f in os.listdir(class_path):\n",
    "        if os.path.isdir(os.path.join(class_path, f)):\n",
    "            yield f\n",
    "def list_image_in_dir(path, ext=\"png\"):\n",
    "    for f in os.listdir(path):\n",
    "        if os.path.isfile(os.path.join(path, f)) and not f.startswith('.') and fnmatch.fnmatch(f, '*.{}'.format(ext)):\n",
    "            yield f"
   ]
  },
  {
   "cell_type": "code",
   "execution_count": 6,
   "metadata": {
    "collapsed": false,
    "pycharm": {
     "name": "#%%\n"
    }
   },
   "outputs": [
    {
     "name": "stdout",
     "output_type": "stream",
     "text": [
      "found 7496 instances\n"
     ]
    }
   ],
   "source": [
    "instance_ids = natsorted([f for f in list_instance_ids(working_path)], alg=ns.IGNORECASE)\n",
    "print(\"found {} instances\".format(len(instance_ids)))"
   ]
  },
  {
   "cell_type": "code",
   "execution_count": 7,
   "metadata": {
    "collapsed": false,
    "pycharm": {
     "name": "#%%\n"
    }
   },
   "outputs": [
    {
     "name": "stdout",
     "output_type": "stream",
     "text": [
      "['cameras.npz', 'pointcloud.npz', 'image', 'mask', 'visual_hull_depth']\n",
      "['0000.png', '0001.png', '0002.png', '0003.png', '0004.png', '0005.png', '0006.png', '0007.png', '0008.png', '0009.png', '0010.png', '0011.png', '0012.png', '0013.png', '0014.png', '0015.png', '0016.png', '0017.png', '0018.png', '0019.png', '0020.png', '0021.png', '0022.png', '0023.png']\n",
      "found 24 images\n"
     ]
    }
   ],
   "source": [
    "print(os.listdir(os.path.join(working_path, instance_ids[0])))\n",
    "print(os.listdir(os.path.join(working_path, instance_ids[0], \"image\")))\n",
    "images = [f for f in list_image_in_dir(os.path.join(working_path, instance_ids[0], \"image\"))]\n",
    "print(\"found {} images\".format(len(images)))"
   ]
  },
  {
   "cell_type": "code",
   "execution_count": 8,
   "metadata": {
    "collapsed": false,
    "pycharm": {
     "name": "#%%\n"
    }
   },
   "outputs": [],
   "source": [
    "def show_images(class_path, instance_id):\n",
    "    instance_path = os.path.join(class_path, instance_id, \"image\")\n",
    "    image_names = natsorted([f for f in list_image_in_dir(instance_path)], alg=ns.IGNORECASE)\n",
    "    image_paths = [os.path.join(os.path.join(instance_path, f)) for f in image_names]\n",
    "    n_rows = int(np.sqrt(len(image_names)) + 1)\n",
    "\n",
    "    for i in range(0, len(image_names)):\n",
    "        img = image.imread(image_paths[i])\n",
    "        plt.subplot(n_rows, n_rows, 1 + i)\n",
    "        plt.axis(\"off\")\n",
    "        plt.imshow(img)\n",
    "\n",
    "    plt.show()"
   ]
  },
  {
   "cell_type": "code",
   "execution_count": 9,
   "metadata": {
    "collapsed": false,
    "pycharm": {
     "name": "#%%\n"
    }
   },
   "outputs": [
    {
     "name": "stdout",
     "output_type": "stream",
     "text": [
      "1a1dcd236a1e6133860800e6696b8284\n"
     ]
    },
    {
     "data": {
      "text/plain": "<Figure size 432x288 with 24 Axes>",
      "image/png": "[encoded data removed]"
     },
     "metadata": {
      "needs_background": "light"
     },
     "output_type": "display_data"
    }
   ],
   "source": [
    "print(instance_ids[2])\n",
    "show_images(working_path, instance_ids[2])"
   ]
  },
  {
   "cell_type": "code",
   "execution_count": 10,
   "metadata": {
    "collapsed": false,
    "pycharm": {
     "name": "#%%\n"
    }
   },
   "outputs": [],
   "source": [
    "def camera_path(class_path, instance_id):\n",
    "    return os.path.join(class_path, instance_id, 'cameras.npz')"
   ]
  },
  {
   "cell_type": "code",
   "execution_count": 11,
   "metadata": {
    "collapsed": false,
    "pycharm": {
     "name": "#%%\n"
    }
   },
   "outputs": [
    {
     "name": "stdout",
     "output_type": "stream",
     "text": [
      "['camera_mat_0', 'camera_mat_1', 'camera_mat_2', 'camera_mat_3', 'camera_mat_4', 'camera_mat_5', 'camera_mat_6', 'camera_mat_7', 'camera_mat_8', 'camera_mat_9', 'camera_mat_10', 'camera_mat_11', 'camera_mat_12', 'camera_mat_13', 'camera_mat_14', 'camera_mat_15', 'camera_mat_16', 'camera_mat_17', 'camera_mat_18', 'camera_mat_19', 'camera_mat_20', 'camera_mat_21', 'camera_mat_22', 'camera_mat_23', 'camera_mat_inv_0', 'camera_mat_inv_1', 'camera_mat_inv_2', 'camera_mat_inv_3', 'camera_mat_inv_4', 'camera_mat_inv_5', 'camera_mat_inv_6', 'camera_mat_inv_7', 'camera_mat_inv_8', 'camera_mat_inv_9', 'camera_mat_inv_10', 'camera_mat_inv_11', 'camera_mat_inv_12', 'camera_mat_inv_13', 'camera_mat_inv_14', 'camera_mat_inv_15', 'camera_mat_inv_16', 'camera_mat_inv_17', 'camera_mat_inv_18', 'camera_mat_inv_19', 'camera_mat_inv_20', 'camera_mat_inv_21', 'camera_mat_inv_22', 'camera_mat_inv_23', 'world_mat_0', 'world_mat_1', 'world_mat_2', 'world_mat_3', 'world_mat_4', 'world_mat_5', 'world_mat_6', 'world_mat_7', 'world_mat_8', 'world_mat_9', 'world_mat_10', 'world_mat_11', 'world_mat_12', 'world_mat_13', 'world_mat_14', 'world_mat_15', 'world_mat_16', 'world_mat_17', 'world_mat_18', 'world_mat_19', 'world_mat_20', 'world_mat_21', 'world_mat_22', 'world_mat_23', 'world_mat_inv_0', 'world_mat_inv_1', 'world_mat_inv_2', 'world_mat_inv_3', 'world_mat_inv_4', 'world_mat_inv_5', 'world_mat_inv_6', 'world_mat_inv_7', 'world_mat_inv_8', 'world_mat_inv_9', 'world_mat_inv_10', 'world_mat_inv_11', 'world_mat_inv_12', 'world_mat_inv_13', 'world_mat_inv_14', 'world_mat_inv_15', 'world_mat_inv_16', 'world_mat_inv_17', 'world_mat_inv_18', 'world_mat_inv_19', 'world_mat_inv_20', 'world_mat_inv_21', 'world_mat_inv_22', 'world_mat_inv_23']\n"
     ]
    }
   ],
   "source": [
    "with np.load(file=camera_path(working_path, instance_ids[2]), mmap_mode=None, allow_pickle=False, fix_imports=True) as f:\n",
    "    print(natsorted(list(f.keys()), alg=ns.IGNORECASE))"
   ]
  },
  {
   "cell_type": "code",
   "execution_count": 12,
   "metadata": {
    "collapsed": false,
    "pycharm": {
     "name": "#%%\n"
    }
   },
   "outputs": [],
   "source": [
    "def load_camera_matrices(class_path, instance_id, id):\n",
    "    file_path = camera_path(class_path, instance_id)\n",
    "    with np.load(file_path) as camera_dict:\n",
    "        Rt = camera_dict['world_mat_inv_%d' % id].astype(np.float32)\n",
    "        K = camera_dict['camera_mat_%d' % id].astype(np.float32)\n",
    "    return Rt, K"
   ]
  },
  {
   "cell_type": "code",
   "execution_count": 13,
   "metadata": {
    "collapsed": false,
    "pycharm": {
     "name": "#%%\n"
    }
   },
   "outputs": [
    {
     "data": {
      "text/plain": "(array([[ 5.0000000e-01,  4.3301272e-01, -7.4999988e-01,  2.0490000e+00],\n        [ 2.6262098e-08, -8.6602539e-01, -4.9999991e-01,  1.3660001e+00],\n        [-8.6602545e-01,  2.5000000e-01, -4.3301257e-01,  1.1829907e+00],\n        [ 0.0000000e+00,  0.0000000e+00,  0.0000000e+00,  1.0000000e+00]],\n       dtype=float32),\n array([[3.732051, 0.      , 0.      , 0.      ],\n        [0.      , 3.732051, 0.      , 0.      ],\n        [0.      , 0.      , 1.      , 0.      ],\n        [0.      , 0.      , 0.      , 1.      ]], dtype=float32))"
     },
     "execution_count": 13,
     "metadata": {},
     "output_type": "execute_result"
    }
   ],
   "source": [
    "load_camera_matrices(working_path, instance_ids[2], 2)"
   ]
  },
  {
   "cell_type": "code",
   "execution_count": 14,
   "metadata": {
    "collapsed": false,
    "pycharm": {
     "name": "#%%\n"
    }
   },
   "outputs": [],
   "source": [
    "def is_rotation_matrix(R):\n",
    "    R_t = np.transpose(R)\n",
    "    R_t_R = np.dot(R_t, R)\n",
    "    I = np.identity(3, dtype = R.dtype)\n",
    "    n = np.linalg.norm(I - R_t_R)\n",
    "    return n < 1e-6"
   ]
  },
  {
   "cell_type": "code",
   "execution_count": 15,
   "metadata": {
    "collapsed": false,
    "pycharm": {
     "name": "#%%\n"
    }
   },
   "outputs": [
    {
     "data": {
      "text/plain": "True"
     },
     "execution_count": 15,
     "metadata": {},
     "output_type": "execute_result"
    }
   ],
   "source": [
    "is_rotation_matrix(load_camera_matrices(working_path, instance_ids[2], 2)[0][0:3, 0:3])"
   ]
  },
  {
   "cell_type": "code",
   "execution_count": 22,
   "metadata": {
    "collapsed": false,
    "pycharm": {
     "name": "#%%\n"
    }
   },
   "outputs": [],
   "source": [
    "def rotation_matrix_to_euler_angles(R) :\n",
    "    if not is_rotation_matrix(R):\n",
    "        raise ValueError('Input R is not a rotational matrix')\n",
    "    sy = np.sqrt(R[0,0] * R[0,0] +  R[1,0] * R[1,0])\n",
    "    singular = sy < 1e-6\n",
    "    if not singular :\n",
    "        x = np.arctan2(R[2,1] , R[2,2])\n",
    "        y = np.arctan2(-R[2,0], sy)\n",
    "        z = np.arctan2(R[1,0], R[0,0])\n",
    "    else :\n",
    "        x = np.arctan2(-R[1,2], R[1,1])\n",
    "        y = np.arctan2(-R[2,0], sy)\n",
    "        z = 0\n",
    "    # RzRyRx = R\n",
    "    return np.array([x, y, z])"
   ]
  },
  {
   "cell_type": "code",
   "execution_count": 34,
   "metadata": {
    "collapsed": false,
    "pycharm": {
     "name": "#%%\n"
    }
   },
   "outputs": [
    {
     "data": {
      "text/plain": [
       "array([2.6179938e+00, 1.0471976e+00, 5.2524197e-08], dtype=float32)"
      ]
     },
     "execution_count": 34,
     "metadata": {},
     "output_type": "execute_result"
    }
   ],
   "source": [
    "rotation_matrix_to_euler_angles(load_camera_matrices(working_path, instance_ids[2], 2)[0][0:3, 0:3])"
   ]
  },
  {
   "cell_type": "markdown",
   "metadata": {
    "collapsed": false
   },
   "source": [
    "p_cam = camera_mat @ world_mat @ scale_mat @ p_world\n",
    "p_cam = H_world_mat @ p_world\n",
    "R_world_mat = \\[x^camera_world | y^camera_world | z^camera_world\\] = R^camera_world\n",
    "we want the rotation matrix from world to camera\n",
    "R^world_camera = R_world_mat^-1"
   ]
  },
  {
   "cell_type": "markdown",
   "metadata": {
    "collapsed": false,
    "pycharm": {
     "name": "#%% md\n"
    }
   },
   "source": [
    "it appears that the inv world mat describes the transformation form world coord system\n",
    "to the camera's coord system\n",
    "\n",
    "we may assume that the z axis in the camera frame points at the origin of the world frame\n",
    "and the model is placed at the origin of the world frame\n",
    "\n",
    "we can verify this be computing the cross product of the third and last columns in Rt, which should be close to zero"
   ]
  },
  {
   "cell_type": "code",
   "execution_count": 39,
   "metadata": {
    "collapsed": false,
    "pycharm": {
     "name": "#%%\n"
    }
   },
   "outputs": [],
   "source": [
    "def calculate_camera_z_world_origin_match(Rt):\n",
    "    return np.linalg.norm(np.cross(Rt[:, 2], Rt[:, 3]))\n",
    "\n",
    "def verify_camera_pose_assumption(Rt, threshold=1e-6):\n",
    "    return calculate_camera_z_world_origin_match(Rt) < threshold"
   ]
  },
  {
   "cell_type": "code",
   "execution_count": 40,
   "metadata": {
    "collapsed": false,
    "pycharm": {
     "name": "#%%\n"
    }
   },
   "outputs": [
    {
     "data": {
      "text/plain": [
       "1.3328004e-07"
      ]
     },
     "execution_count": 40,
     "metadata": {},
     "output_type": "execute_result"
    }
   ],
   "source": [
    "calculate_camera_z_world_origin_match(load_camera_matrices(working_path, instance_ids[2], 2)[0][0:3, :])"
   ]
  },
  {
   "cell_type": "code",
   "execution_count": 41,
   "metadata": {
    "collapsed": false,
    "pycharm": {
     "name": "#%%\n"
    }
   },
   "outputs": [
    {
     "data": {
      "text/plain": [
       "True"
      ]
     },
     "execution_count": 41,
     "metadata": {},
     "output_type": "execute_result"
    }
   ],
   "source": [
    "verify_camera_pose_assumption(load_camera_matrices(working_path, instance_ids[2], 2)[0][0:3, :])"
   ]
  },
  {
   "cell_type": "code",
   "execution_count": 42,
   "metadata": {
    "collapsed": false,
    "pycharm": {
     "name": "#%%\n"
    }
   },
   "outputs": [],
   "source": [
    "def verify_pose_in_dataset(class_path, threshold=1e-6):\n",
    "    total_instances = 0\n",
    "    failed_instances = 0\n",
    "    total_poses = 0\n",
    "    failed_poses = 0\n",
    "    for instance_id in list_instance_ids(class_path):\n",
    "        total_instances += 1\n",
    "        file_path = camera_path(class_path, instance_id)\n",
    "        # load cameras\n",
    "        with np.load(file_path, mmap_mode='r') as camera_dict:\n",
    "            instance_failed = False\n",
    "            world_inv_mat_keys = natsorted([key for key in camera_dict.keys() if \"world_mat_inv\" in key], alg=ns.IGNORECASE)\n",
    "            if len(world_inv_mat_keys) == 0:\n",
    "                print(\"instance {} has no world inv matrices!\".format(instance_id))\n",
    "            total_poses += len(world_inv_mat_keys)\n",
    "            for key in world_inv_mat_keys:\n",
    "                Rt = camera_dict[key].astype(np.float32)\n",
    "                dist = calculate_camera_z_world_origin_match(Rt[0:3, :])\n",
    "                if dist > threshold:\n",
    "                    instance_failed = True\n",
    "                    failed_poses += 1\n",
    "                    print(\"FAILED: instance {}, pose id {}, mismatch {}\".format(instance_id, key, dist))\n",
    "            failed_instances += 1 if instance_failed else 0\n",
    "    return total_instances, failed_instances, total_poses, failed_poses"
   ]
  },
  {
   "cell_type": "code",
   "execution_count": 43,
   "metadata": {
    "collapsed": false,
    "pycharm": {
     "name": "#%%\n"
    }
   },
   "outputs": [
    {
     "name": "stdout",
     "output_type": "stream",
     "text": [
      "/Volumes/Ed/Thesis/pi-GAN/../Local/datasets/data/NMR_Dataset/02958343\n",
      "0/7496 instances failed, 0/179904 poses failed\n"
     ]
    }
   ],
   "source": [
    "print(working_path)\n",
    "total_instances, failed_instances, total_poses, failed_poses = verify_pose_in_dataset(working_path)\n",
    "print(\"{}/{} instances failed, {}/{} poses failed\".format(failed_instances, total_instances, failed_poses, total_poses))"
   ]
  },
  {
   "cell_type": "markdown",
   "metadata": {
    "collapsed": false,
    "pycharm": {
     "name": "#%% md\n"
    }
   },
   "source": [
    "it worked :)"
   ]
  },
  {
   "cell_type": "markdown",
   "metadata": {
    "collapsed": false,
    "pycharm": {
     "name": "#%% md\n"
    }
   },
   "source": [
    "now we calculate the yaw and pitch along the unit sphere (as in Pi-GAN paper)\n",
    "since we can assume that the camera's z axis points at the center of the world origin,\n",
    "and that the model is in a unit box centered at the world origin,\n",
    "we can acquire the angles along the sphere from only the translation component t\n",
    "\n",
    "we will dictate that the camera must be in the northern hemisphere\n",
    "\\t to that effect, we will discard violating captures from the dataset\n",
    "\n",
    "we will use the axis notation in ShapeNetCore V2, that is\n",
    "z axis points to the back\n",
    "y axis points up\n",
    "x axis follows RHL (to the right)\n",
    "\n",
    "we define\n",
    "alpha as the angle about the y axis in the right hand direction, with x-axis as 0,\n",
    "and gamma as the angle from the z-x plane, that is\n",
    "alpha = atan2(-z, x)\n",
    "gamma = atan2(y, norm([x, z]))"
   ]
  },
  {
   "cell_type": "code",
   "execution_count": 45,
   "metadata": {
    "collapsed": false,
    "pycharm": {
     "name": "#%%\n"
    }
   },
   "outputs": [],
   "source": [
    "# calculate the yaw and pitch along the sphere for a camera pose Rt\n",
    "def calculate_yaw_pitch_on_sphere(Rt):\n",
    "    t = Rt[:, 3]\n",
    "    alpha = np.arctan2(-t[2], t[0])\n",
    "    gamma = np.arctan2(t[1], np.linalg.norm([t[0], t[2]]))\n",
    "    return alpha, gamma"
   ]
  },
  {
   "cell_type": "code",
   "execution_count": 46,
   "metadata": {
    "collapsed": false,
    "pycharm": {
     "name": "#%%\n"
    }
   },
   "outputs": [
    {
     "data": {
      "text/plain": [
       "(0.0, 0.5235988)"
      ]
     },
     "execution_count": 46,
     "metadata": {},
     "output_type": "execute_result"
    }
   ],
   "source": [
    "calculate_yaw_pitch_on_sphere(load_camera_matrices(working_path, instance_ids[2], 0)[0][0:3,:])"
   ]
  },
  {
   "cell_type": "code",
   "execution_count": 47,
   "metadata": {
    "collapsed": false,
    "pycharm": {
     "name": "#%%\n"
    }
   },
   "outputs": [
    {
     "data": {
      "text/plain": [
       "(-0.52359873, 0.5235988)"
      ]
     },
     "execution_count": 47,
     "metadata": {},
     "output_type": "execute_result"
    }
   ],
   "source": [
    "calculate_yaw_pitch_on_sphere(load_camera_matrices(working_path, instance_ids[2], 2)[0][0:3,:])"
   ]
  },
  {
   "cell_type": "code",
   "execution_count": 90,
   "metadata": {
    "collapsed": false,
    "pycharm": {
     "name": "#%%\n"
    }
   },
   "outputs": [],
   "source": [
    "def aggregate_yaw_pitch_on_sphere_over_dataset(class_path):\n",
    "    alpha_total = None\n",
    "    gamma_total = None\n",
    "\n",
    "    batch_size = 1000\n",
    "    alpha_batch = np.empty((batch_size,))\n",
    "    gamma_batch = np.empty((batch_size,))\n",
    "    batch_ctr = 0\n",
    "\n",
    "    for instance_id in list_instance_ids(class_path):\n",
    "        file_path = camera_path(class_path, instance_id)\n",
    "        # load cameras\n",
    "        with np.load(file_path, mmap_mode='r') as camera_dict:\n",
    "            for key in camera_dict.keys():\n",
    "                if \"world_mat_inv\" in key:\n",
    "                    Rt = camera_dict[key].astype(np.float32)\n",
    "                    # verify northern hemisphere\n",
    "                    if Rt[1, 3] < 0:\n",
    "                        print(\"SKIPPED, instance {}, matrix {}, y {}\".format(instance_id, key, Rt[1,3]))\n",
    "                        continue\n",
    "                    alpha, gamma = calculate_yaw_pitch_on_sphere(Rt[0:3, :])\n",
    "                    # register to batch\n",
    "                    alpha_batch[batch_ctr] = alpha\n",
    "                    gamma_batch[batch_ctr] = gamma\n",
    "                    # increment batch counter\n",
    "                    batch_ctr += 1\n",
    "                    # concat to total\n",
    "                    if batch_ctr >= batch_size:\n",
    "                        if alpha_total is None:\n",
    "                            alpha_total = alpha_batch\n",
    "                            gamma_total = gamma_batch\n",
    "                        else:\n",
    "                            alpha_total = np.concatenate((alpha_total, alpha_batch))\n",
    "                            gamma_total = np.concatenate((gamma_total, gamma_batch))\n",
    "                        batch_ctr = 0\n",
    "                        alpha_batch = np.empty((batch_size,))\n",
    "                        gamma_batch = np.empty((batch_size,))\n",
    "\n",
    "    # add the last batch if not empty\n",
    "    if batch_ctr != 0:\n",
    "        alpha_total = np.concatenate((alpha_total, alpha_batch[0:batch_ctr]))\n",
    "        gamma_total = np.concatenate((gamma_total, gamma_batch[0:batch_ctr]))\n",
    "\n",
    "    # return aggregates\n",
    "    return alpha_total, gamma_total"
   ]
  },
  {
   "cell_type": "code",
   "execution_count": 91,
   "metadata": {
    "collapsed": false,
    "pycharm": {
     "name": "#%%\n"
    }
   },
   "outputs": [],
   "source": [
    "# compute\n",
    "alpha_total, gamma_total = aggregate_yaw_pitch_on_sphere_over_dataset(working_path)"
   ]
  },
  {
   "cell_type": "code",
   "execution_count": 92,
   "metadata": {
    "collapsed": false,
    "pycharm": {
     "name": "#%%\n"
    }
   },
   "outputs": [
    {
     "data": {
      "text/plain": [
       "179904"
      ]
     },
     "execution_count": 92,
     "metadata": {},
     "output_type": "execute_result"
    }
   ],
   "source": [
    "len(alpha_total)"
   ]
  },
  {
   "cell_type": "code",
   "execution_count": 93,
   "metadata": {
    "collapsed": false,
    "pycharm": {
     "name": "#%%\n"
    }
   },
   "outputs": [
    {
     "data": {
      "image/png": "[encoded data removed]",
      "text/plain": [
       "<Figure size 1080x720 with 1 Axes>"
      ]
     },
     "metadata": {
      "needs_background": "light"
     },
     "output_type": "display_data"
    }
   ],
   "source": [
    "plt.figure(figsize=(15,10))\n",
    "plt.scatter(alpha_total, gamma_total)\n",
    "plt.xlabel(\"Alpha (Radians)\")\n",
    "plt.ylabel(\"Gamma (Radians)\")\n",
    "plt.xticks(np.linspace(-1*np.pi, 1*np.pi, 13))\n",
    "plt.ylim([0.5, 0.55])\n",
    "plt.grid()\n",
    "plt.show()"
   ]
  },
  {
   "cell_type": "code",
   "execution_count": 94,
   "metadata": {
    "collapsed": false,
    "pycharm": {
     "name": "#%%\n"
    }
   },
   "outputs": [
    {
     "data": {
      "text/plain": [
       "-3.141592502593994"
      ]
     },
     "execution_count": 94,
     "metadata": {},
     "output_type": "execute_result"
    }
   ],
   "source": [
    "np.min(alpha_total)"
   ]
  },
  {
   "cell_type": "code",
   "execution_count": 95,
   "metadata": {
    "collapsed": false,
    "pycharm": {
     "name": "#%%\n"
    }
   },
   "outputs": [
    {
     "data": {
      "text/plain": [
       "2.879793167114258"
      ]
     },
     "execution_count": 95,
     "metadata": {},
     "output_type": "execute_result"
    }
   ],
   "source": [
    "np.max(alpha_total)"
   ]
  },
  {
   "cell_type": "code",
   "execution_count": 96,
   "metadata": {
    "collapsed": false,
    "pycharm": {
     "name": "#%%\n"
    }
   },
   "outputs": [
    {
     "data": {
      "text/plain": [
       "0.5235987827181816"
      ]
     },
     "execution_count": 96,
     "metadata": {},
     "output_type": "execute_result"
    }
   ],
   "source": [
    "np.mean(gamma_total)"
   ]
  },
  {
   "cell_type": "code",
   "execution_count": 97,
   "metadata": {
    "collapsed": false,
    "pycharm": {
     "name": "#%%\n"
    }
   },
   "outputs": [
    {
     "data": {
      "image/png": "[encoded data removed]",
      "text/plain": [
       "<Figure size 1080x720 with 1 Axes>"
      ]
     },
     "metadata": {
      "needs_background": "light"
     },
     "output_type": "display_data"
    }
   ],
   "source": [
    "plt.figure(figsize=(15,10))\n",
    "num_bins = 24\n",
    "alpha_hist = plt.hist(alpha_total, bins=num_bins, rwidth=0.8)\n",
    "plt.title(\"Alpha Distribution\")\n",
    "plt.show()"
   ]
  },
  {
   "cell_type": "code",
   "execution_count": 98,
   "metadata": {
    "collapsed": false,
    "pycharm": {
     "name": "#%%\n"
    }
   },
   "outputs": [
    {
     "data": {
      "image/png": "[encoded data removed]",
      "text/plain": [
       "<Figure size 1080x720 with 1 Axes>"
      ]
     },
     "metadata": {
      "needs_background": "light"
     },
     "output_type": "display_data"
    }
   ],
   "source": [
    "plt.figure(figsize=(15,10))\n",
    "num_bins = 10\n",
    "gamma_hist = plt.hist(gamma_total, bins=num_bins, rwidth=0.8)\n",
    "plt.title(\"Gamma Distribution\")\n",
    "for i in range(num_bins):\n",
    "    plt.text(gamma_hist[1][i],gamma_hist[0][i],str(gamma_hist[0][i]))\n",
    "plt.show()"
   ]
  },
  {
   "cell_type": "code",
   "execution_count": 99,
   "metadata": {
    "collapsed": false,
    "pycharm": {
     "name": "#%%\n"
    }
   },
   "outputs": [
    {
     "name": "stdout",
     "output_type": "stream",
     "text": [
      "mu: 0.5235987827181816, std: 3.131608221162978e-08\n"
     ]
    }
   ],
   "source": [
    "gamma_mu = np.mean(gamma_total)\n",
    "gamma_std = np.std(gamma_total)\n",
    "print(\"mu: {}, std: {}\".format(gamma_mu, gamma_std))"
   ]
  },
  {
   "cell_type": "markdown",
   "metadata": {
    "collapsed": false,
    "pycharm": {
     "name": "#%% md\n"
    }
   },
   "source": [
    "move data from individual folders to an aggregated folder\n",
    "on this disk's file system, although each image is 2KB, it takes 128K on disk"
   ]
  },
  {
   "cell_type": "code",
   "execution_count": 100,
   "metadata": {
    "collapsed": false,
    "pycharm": {
     "name": "#%%\n"
    }
   },
   "outputs": [
    {
     "data": {
      "text/plain": [
       "23027712"
      ]
     },
     "execution_count": 100,
     "metadata": {},
     "output_type": "execute_result"
    }
   ],
   "source": [
    "128 * 179904"
   ]
  },
  {
   "cell_type": "code",
   "execution_count": 101,
   "metadata": {
    "collapsed": false,
    "pycharm": {
     "name": "#%%\n"
    }
   },
   "outputs": [
    {
     "data": {
      "text/plain": [
       "22488.0"
      ]
     },
     "execution_count": 101,
     "metadata": {},
     "output_type": "execute_result"
    }
   ],
   "source": [
    "128 * 179904 / 1024"
   ]
  },
  {
   "cell_type": "code",
   "execution_count": 103,
   "metadata": {
    "collapsed": false,
    "pycharm": {
     "name": "#%%\n"
    }
   },
   "outputs": [
    {
     "data": {
      "text/plain": [
       "21.9609375"
      ]
     },
     "execution_count": 103,
     "metadata": {},
     "output_type": "execute_result"
    }
   ],
   "source": [
    "128 * 179904 / 1024**2"
   ]
  },
  {
   "cell_type": "markdown",
   "metadata": {
    "collapsed": false,
    "pycharm": {
     "name": "#%% md\n"
    }
   },
   "source": [
    "so this should take 22GB on disk"
   ]
  },
  {
   "cell_type": "code",
   "execution_count": 24,
   "metadata": {
    "collapsed": false,
    "pycharm": {
     "name": "#%%\n"
    }
   },
   "outputs": [],
   "source": [
    "def extract_images(class_path, target_dir):\n",
    "    target_dir = os.path.abspath(target_dir)\n",
    "    # verify that target dir exists\n",
    "    assert(os.path.exists(target_dir) and os.path.isdir(target_dir))\n",
    "    # iterate through class dir and copy images\n",
    "    for instance_id in list_instance_ids(class_path):\n",
    "        instance_path = os.path.join(class_path, instance_id, \"image\")\n",
    "        # verify that instance dir exists\n",
    "        assert(os.path.exists(instance_path) and os.path.isdir(instance_path))\n",
    "        # copy all images\n",
    "        for image_name in list_image_in_dir(instance_path):\n",
    "            image_path = os.path.join(instance_path, image_name)\n",
    "            dst_path = os.path.join(target_dir, \"{}_{}\".format(instance_id, image_name))\n",
    "\n",
    "            if not os.path.exists(dst_path):\n",
    "                shutil.copy2(image_path, dst_path)\n",
    "\n",
    "            # display\n",
    "            display.clear_output(wait=True)\n",
    "            display.display(\"Instance {}, image {}\".format(instance_id, image_name))"
   ]
  },
  {
   "cell_type": "code",
   "execution_count": 16,
   "outputs": [],
   "source": [
    "target_path = os.path.join(os.getcwd(), \"../Local/datasets/data/\", \"ShapeNetCars\")"
   ],
   "metadata": {
    "collapsed": false,
    "pycharm": {
     "name": "#%%\n"
    }
   }
  },
  {
   "cell_type": "code",
   "execution_count": 17,
   "outputs": [
    {
     "data": {
      "text/plain": "'/Volumes/Ed/Thesis/pi-GAN/../Local/datasets/data/ShapeNetCars'"
     },
     "execution_count": 17,
     "metadata": {},
     "output_type": "execute_result"
    }
   ],
   "source": [
    "target_path"
   ],
   "metadata": {
    "collapsed": false,
    "pycharm": {
     "name": "#%%\n"
    }
   }
  },
  {
   "cell_type": "code",
   "execution_count": 22,
   "outputs": [
    {
     "data": {
      "text/plain": "'/Volumes/Ed/Thesis/pi-GAN/../Local/datasets/data/'"
     },
     "execution_count": 22,
     "metadata": {},
     "output_type": "execute_result"
    }
   ],
   "source": [
    "datasets_path"
   ],
   "metadata": {
    "collapsed": false,
    "pycharm": {
     "name": "#%%\n"
    }
   }
  },
  {
   "cell_type": "code",
   "execution_count": 19,
   "outputs": [
    {
     "data": {
      "text/plain": "True"
     },
     "execution_count": 19,
     "metadata": {},
     "output_type": "execute_result"
    }
   ],
   "source": [
    "os.path.exists(datasets_path)"
   ],
   "metadata": {
    "collapsed": false,
    "pycharm": {
     "name": "#%%\n"
    }
   }
  },
  {
   "cell_type": "code",
   "execution_count": 20,
   "outputs": [
    {
     "data": {
      "text/plain": "True"
     },
     "execution_count": 20,
     "metadata": {},
     "output_type": "execute_result"
    }
   ],
   "source": [
    "os.path.exists(target_path)"
   ],
   "metadata": {
    "collapsed": false,
    "pycharm": {
     "name": "#%%\n"
    }
   }
  },
  {
   "cell_type": "code",
   "execution_count": 23,
   "outputs": [
    {
     "ename": "FileExistsError",
     "evalue": "[Errno 17] File exists: '/Volumes/Ed/Thesis/pi-GAN/../Local/datasets/data/ShapeNetCars'",
     "output_type": "error",
     "traceback": [
      "\u001B[0;31m---------------------------------------------------------------------------\u001B[0m",
      "\u001B[0;31mFileExistsError\u001B[0m                           Traceback (most recent call last)",
      "\u001B[0;32m<ipython-input-23-fd49c036e2d7>\u001B[0m in \u001B[0;36m<module>\u001B[0;34m\u001B[0m\n\u001B[0;32m----> 1\u001B[0;31m \u001B[0mos\u001B[0m\u001B[0;34m.\u001B[0m\u001B[0mmakedirs\u001B[0m\u001B[0;34m(\u001B[0m\u001B[0mtarget_path\u001B[0m\u001B[0;34m)\u001B[0m\u001B[0;34m\u001B[0m\u001B[0;34m\u001B[0m\u001B[0m\n\u001B[0m",
      "\u001B[0;32m~/opt/miniconda3/envs/pigan/lib/python3.6/os.py\u001B[0m in \u001B[0;36mmakedirs\u001B[0;34m(name, mode, exist_ok)\u001B[0m\n\u001B[1;32m    218\u001B[0m             \u001B[0;32mreturn\u001B[0m\u001B[0;34m\u001B[0m\u001B[0;34m\u001B[0m\u001B[0m\n\u001B[1;32m    219\u001B[0m     \u001B[0;32mtry\u001B[0m\u001B[0;34m:\u001B[0m\u001B[0;34m\u001B[0m\u001B[0;34m\u001B[0m\u001B[0m\n\u001B[0;32m--> 220\u001B[0;31m         \u001B[0mmkdir\u001B[0m\u001B[0;34m(\u001B[0m\u001B[0mname\u001B[0m\u001B[0;34m,\u001B[0m \u001B[0mmode\u001B[0m\u001B[0;34m)\u001B[0m\u001B[0;34m\u001B[0m\u001B[0;34m\u001B[0m\u001B[0m\n\u001B[0m\u001B[1;32m    221\u001B[0m     \u001B[0;32mexcept\u001B[0m \u001B[0mOSError\u001B[0m\u001B[0;34m:\u001B[0m\u001B[0;34m\u001B[0m\u001B[0;34m\u001B[0m\u001B[0m\n\u001B[1;32m    222\u001B[0m         \u001B[0;31m# Cannot rely on checking for EEXIST, since the operating system\u001B[0m\u001B[0;34m\u001B[0m\u001B[0;34m\u001B[0m\u001B[0;34m\u001B[0m\u001B[0m\n",
      "\u001B[0;31mFileExistsError\u001B[0m: [Errno 17] File exists: '/Volumes/Ed/Thesis/pi-GAN/../Local/datasets/data/ShapeNetCars'"
     ]
    }
   ],
   "source": [
    "os.makedirs(target_path)"
   ],
   "metadata": {
    "collapsed": false,
    "pycharm": {
     "name": "#%%\n"
    }
   }
  },
  {
   "cell_type": "code",
   "execution_count": 25,
   "outputs": [
    {
     "data": {
      "text/plain": "'Instance fffb1660a38af30ba4cf3601fb6b2442, image 0023.png'"
     },
     "metadata": {},
     "output_type": "display_data"
    }
   ],
   "source": [
    "extract_images(working_path, target_path)"
   ],
   "metadata": {
    "collapsed": false,
    "pycharm": {
     "name": "#%%\n"
    }
   }
  },
  {
   "cell_type": "code",
   "execution_count": 24,
   "outputs": [],
   "source": [
    "# camera matrix has fx and fy\n",
    "# we will assume fx and fy are the same\n",
    "# we calculate both horizontal and diagonal FoVs. Since the images are squares, horizontal and diagonal FoVs are identical\n",
    "# we know that the images are scaled to be [-1, 1] in both horizontal and vertical directions\n",
    "def calculate_fov(camera_matrix):\n",
    "    f_x = camera_matrix[0, 0]\n",
    "    h_fov = 2 * np.arctan2(0.5 * 2, f_x)\n",
    "    diag = np.linalg.norm([2, 2])\n",
    "    diag_fov = 2 * np.arctan2(0.5 * diag, f_x)\n",
    "    return h_fov, diag_fov"
   ],
   "metadata": {
    "collapsed": false,
    "pycharm": {
     "name": "#%%\n"
    }
   }
  },
  {
   "cell_type": "code",
   "execution_count": 25,
   "outputs": [
    {
     "data": {
      "text/plain": "array([[3.732051, 0.      , 0.      , 0.      ],\n       [0.      , 3.732051, 0.      , 0.      ],\n       [0.      , 0.      , 1.      , 0.      ],\n       [0.      , 0.      , 0.      , 1.      ]], dtype=float32)"
     },
     "execution_count": 25,
     "metadata": {},
     "output_type": "execute_result"
    }
   ],
   "source": [
    "load_camera_matrices(working_path, instance_ids[2], 0)[1]"
   ],
   "metadata": {
    "collapsed": false,
    "pycharm": {
     "name": "#%%\n"
    }
   }
  },
  {
   "cell_type": "code",
   "execution_count": 26,
   "outputs": [
    {
     "data": {
      "text/plain": "(0.5235987637921843, 0.7244362747751756)"
     },
     "execution_count": 26,
     "metadata": {},
     "output_type": "execute_result"
    }
   ],
   "source": [
    "calculate_fov(load_camera_matrices(working_path, instance_ids[2], 0)[1])"
   ],
   "metadata": {
    "collapsed": false,
    "pycharm": {
     "name": "#%%\n"
    }
   }
  },
  {
   "cell_type": "code",
   "execution_count": 27,
   "outputs": [
    {
     "data": {
      "text/plain": "array([29.99999932, 41.50714107])"
     },
     "execution_count": 27,
     "metadata": {},
     "output_type": "execute_result"
    }
   ],
   "source": [
    "np.degrees(calculate_fov(load_camera_matrices(working_path, instance_ids[2], 0)[1]))"
   ],
   "metadata": {
    "collapsed": false,
    "pycharm": {
     "name": "#%%\n"
    }
   }
  },
  {
   "cell_type": "code",
   "execution_count": null,
   "outputs": [],
   "source": [
    "bad_files = []\n",
    "for img in list_image_in_dir(\"/Volumes/Ed/Thesis/Local/datasets/data/ShapeNetCars\"):\n",
    "    try:\n",
    "        display.clear_output(wait=True)\n",
    "        display.display(\"Image {}\".format(img))\n",
    "        PIL.Image.open(os.path.join(\"/Volumes/Ed/Thesis/Local/datasets/data/ShapeNetCars\", img))\n",
    "    except:\n",
    "        bad_files.append(img)\n",
    "print(bad_files)"
   ],
   "metadata": {
    "collapsed": false,
    "pycharm": {
     "name": "#%%\n",
     "is_executing": true
    }
   }
  },
  {
   "cell_type": "code",
   "execution_count": null,
   "outputs": [],
   "source": [],
   "metadata": {
    "collapsed": false,
    "pycharm": {
     "name": "#%%\n"
    }
   }
  }
 ],
 "metadata": {
  "kernelspec": {
   "display_name": "Python 3",
   "language": "python",
   "name": "python3"
  },
  "language_info": {
   "codemirror_mode": {
    "name": "ipython",
    "version": 2
   },
   "file_extension": ".py",
   "mimetype": "text/x-python",
   "name": "python",
   "nbconvert_exporter": "python",
   "pygments_lexer": "ipython2",
   "version": "2.7.6"
  }
 },
 "nbformat": 4,
 "nbformat_minor": 0
}